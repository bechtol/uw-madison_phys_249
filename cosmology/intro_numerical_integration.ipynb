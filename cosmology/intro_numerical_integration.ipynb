{
 "cells": [
  {
   "cell_type": "markdown",
   "metadata": {},
   "source": [
    "# Introduction to Numerical Integration in Python\n",
    "\n",
    "When calculating distances in our expanding Universe, we often encounter integrals that have no easy analytic solution. This notebook provides a quick introduction to computing integrals numerically in python. Along the way, we'll introduce some numerical methods and key concepts in the python computing language. Note that all of the cells in this notebook, including this \"markdown\"-type cell, are editable. Feel free to experiment - it's the best way to learn your way around!\n",
    "\n",
    "After completing this notebook, you should be able to\n",
    "1. Read, edit, and begin writing short python scripts in the JupyterHub environment\n",
    "2. Compute numeric integrals in a few different ways\n",
    "3. Use plotting functionality in python"
   ]
  },
  {
   "cell_type": "markdown",
   "metadata": {},
   "source": [
    "## Essential tools: importing modules, functions, print statements, and plotting\n",
    "\n",
    "In the cell below, we show how to import python modules. The python language has many useful, well documented, and well supported modules which extend the functionality of the language. Many of these modules have become standard tools in scientific computing.\n",
    "\n",
    "Here we'll use the numeric python [numpy](https://docs.scipy.org/doc/numpy/user/quickstart.html) module, as well as the [pylab](https://matplotlib.org/tutorials/index.html) plotting module."
   ]
  },
  {
   "cell_type": "code",
   "execution_count": 1,
   "metadata": {},
   "outputs": [],
   "source": [
    "# This is comment used to annotate our code\n",
    "\n",
    "import numpy as np # Use the \"np\" alias for short\n",
    "import pylab\n",
    "\n",
    "pylab.ion() # To enable interactive plotting in the notebook"
   ]
  },
  {
   "cell_type": "markdown",
   "metadata": {},
   "source": [
    "Numpy arrays are very powerful objects because they enable vectorized math operations. It's easiest to see the power of numpy arrays with a few examples. We'll use the `print` statement to output the results in ascii characters."
   ]
  },
  {
   "cell_type": "code",
   "execution_count": 2,
   "metadata": {},
   "outputs": [
    {
     "name": "stdout",
     "output_type": "stream",
     "text": [
      "[1 1 2 3 5]\n",
      "[0 1 2 3 4]\n",
      "[2 2 3 4 6]\n",
      "[ 2  2  4  6 10]\n",
      "[ 0  1  4  9 16]\n",
      "[1 2 4 6 9]\n"
     ]
    }
   ],
   "source": [
    "a = np.array([1, 1, 2, 3, 5]) # create custom array by inputing the values by hand - do you recognize the pattern?\n",
    "b = np.arange(5) # numpy also has functions for quickly creating arrays\n",
    "print(a)\n",
    "print(b)\n",
    "print(a + 1)\n",
    "print(2 * a)\n",
    "print(b**2)\n",
    "print(a + b)"
   ]
  },
  {
   "cell_type": "markdown",
   "metadata": {},
   "source": [
    "Consider the simple mathematical function $f(x) = x^2$. In python, we can define a function as follows:"
   ]
  },
  {
   "cell_type": "code",
   "execution_count": 3,
   "metadata": {},
   "outputs": [],
   "source": [
    "def myFunction(x):\n",
    "    \"\"\"\n",
    "    Here's my first function. \n",
    "    The three quote makes indicate a block comment.\n",
    "    \"\"\"\n",
    "    return x**2"
   ]
  },
  {
   "cell_type": "markdown",
   "metadata": {},
   "source": [
    "See our function in action."
   ]
  },
  {
   "cell_type": "code",
   "execution_count": 4,
   "metadata": {},
   "outputs": [
    {
     "name": "stdout",
     "output_type": "stream",
     "text": [
      "25\n"
     ]
    }
   ],
   "source": [
    "print(myFunction(5))"
   ]
  },
  {
   "cell_type": "markdown",
   "metadata": {},
   "source": [
    "Let's evaluate and plot our function for some range of x-values."
   ]
  },
  {
   "cell_type": "code",
   "execution_count": 5,
   "metadata": {},
   "outputs": [
    {
     "name": "stdout",
     "output_type": "stream",
     "text": [
      "x-values\n",
      "[-5.  -4.5 -4.  -3.5 -3.  -2.5 -2.  -1.5 -1.  -0.5  0.   0.5  1.   1.5\n",
      "  2.   2.5  3.   3.5  4.   4.5  5. ]\n",
      "y-values\n",
      "[25.   20.25 16.   12.25  9.    6.25  4.    2.25  1.    0.25  0.    0.25\n",
      "  1.    2.25  4.    6.25  9.   12.25 16.   20.25 25.  ]\n"
     ]
    }
   ],
   "source": [
    "# Create a numpy array with 21 equally spaced steps between -5 and 5\n",
    "x = np.linspace(-5, 5, 21) \n",
    "print(\"x-values\")\n",
    "print(x)\n",
    "\n",
    "print(\"y-values\")\n",
    "y = myFunction(x)\n",
    "print(y)"
   ]
  },
  {
   "cell_type": "markdown",
   "metadata": {},
   "source": [
    "By the way, if you encounter an unfamiliar object, you can use the `help` function to see documentation. Uncomment the following line to see the documentation for the `np.linspace` function."
   ]
  },
  {
   "cell_type": "code",
   "execution_count": 6,
   "metadata": {},
   "outputs": [],
   "source": [
    "#help(np.linspace)"
   ]
  },
  {
   "cell_type": "markdown",
   "metadata": {},
   "source": [
    "In addition, you can find out the type of object with the `type` function."
   ]
  },
  {
   "cell_type": "code",
   "execution_count": 7,
   "metadata": {},
   "outputs": [
    {
     "data": {
      "text/plain": [
       "numpy.ndarray"
      ]
     },
     "execution_count": 7,
     "metadata": {},
     "output_type": "execute_result"
    }
   ],
   "source": [
    "type(x)"
   ]
  },
  {
   "cell_type": "markdown",
   "metadata": {},
   "source": [
    "Here's how one might make a `for` loop and index the individual elements of the array. Note that we have also used a more sophisticated syntax for the `print` statement argument that makes a nicer display. "
   ]
  },
  {
   "cell_type": "code",
   "execution_count": 8,
   "metadata": {},
   "outputs": [
    {
     "name": "stdout",
     "output_type": "stream",
     "text": [
      "         x         y\n",
      "     -5.00     25.00\n",
      "     -4.50     20.25\n",
      "     -4.00     16.00\n",
      "     -3.50     12.25\n",
      "     -3.00      9.00\n",
      "     -2.50      6.25\n",
      "     -2.00      4.00\n",
      "     -1.50      2.25\n",
      "     -1.00      1.00\n",
      "     -0.50      0.25\n",
      "      0.00      0.00\n",
      "      0.50      0.25\n",
      "      1.00      1.00\n",
      "      1.50      2.25\n",
      "      2.00      4.00\n",
      "      2.50      6.25\n",
      "      3.00      9.00\n",
      "      3.50     12.25\n",
      "      4.00     16.00\n",
      "      4.50     20.25\n",
      "      5.00     25.00\n"
     ]
    }
   ],
   "source": [
    "print('%10s%10s'%('x', 'y'))\n",
    "for ii in range(0, len(x)):\n",
    "    print('%10.2f%10.2f'%(x[ii], y[ii]))"
   ]
  },
  {
   "cell_type": "code",
   "execution_count": 9,
   "metadata": {},
   "outputs": [
    {
     "data": {
      "text/plain": [
       "<matplotlib.legend.Legend at 0x2ad311238c18>"
      ]
     },
     "execution_count": 9,
     "metadata": {},
     "output_type": "execute_result"
    },
    {
     "data": {
      "image/png": "[encoded data removed]",
      "text/plain": [
       "<Figure size 432x288 with 1 Axes>"
      ]
     },
     "metadata": {
      "needs_background": "light"
     },
     "output_type": "display_data"
    }
   ],
   "source": [
    "pylab.figure()\n",
    "pylab.plot(x, y, c='Red', label='Line Plot')\n",
    "pylab.scatter(x, y, c='Blue', label='Scatter Points')\n",
    "pylab.xlim(-5, 5)\n",
    "pylab.ylim(0, 25)\n",
    "pylab.xlabel('x')\n",
    "pylab.ylabel('y')\n",
    "pylab.title('My First Plot')\n",
    "pylab.legend(loc='upper center')\n"
   ]
  },
  {
   "cell_type": "markdown",
   "metadata": {},
   "source": [
    "## Analytic Integrals\n",
    "\n",
    "Let's start by evaluating the integral analytically. In pratice, we usually use numeric integrals for situations when the integral is difficult to evaluate analytically. For instructional purposes though, it will be useful to compare to the exact answer.\n",
    "\n",
    "The definite integral of our function is \n",
    "\n",
    "$\\int_a^b f(x) dx = \\int_a^b x^2 dx = \\frac{1}{3} x^3 |_a^b = \\frac{1}{3}(b^3 - a^3)$ "
   ]
  },
  {
   "cell_type": "code",
   "execution_count": 10,
   "metadata": {},
   "outputs": [],
   "source": [
    "def analyticIntegral(a, b):\n",
    "    return (1/3.) * (b**3 - a**3)"
   ]
  },
  {
   "cell_type": "code",
   "execution_count": 11,
   "metadata": {},
   "outputs": [
    {
     "name": "stdout",
     "output_type": "stream",
     "text": [
      "24.0\n"
     ]
    },
    {
     "data": {
      "text/plain": [
       "<matplotlib.legend.Legend at 0x2ad3112b8eb8>"
      ]
     },
     "execution_count": 11,
     "metadata": {},
     "output_type": "execute_result"
    },
    {
     "data": {
      "image/png": "[encoded data removed]",
      "text/plain": [
       "<Figure size 432x288 with 1 Axes>"
      ]
     },
     "metadata": {
      "needs_background": "light"
     },
     "output_type": "display_data"
    }
   ],
   "source": [
    "my_a = -2\n",
    "my_b = 4\n",
    "\n",
    "print(analyticIntegral(my_a, my_b))\n",
    "\n",
    "pylab.figure()\n",
    "pylab.plot(x, y, c='Red', label='$f(x) = x^2$')\n",
    "pylab.fill_between(x, y, where=np.logical_and(x >= my_a, x <= my_b), color='red', alpha=0.5, label='Area under $f(x)$')\n",
    "pylab.xlim(-5, 5)\n",
    "pylab.ylim(0, 25)\n",
    "pylab.xlabel('x')\n",
    "pylab.ylabel('y')\n",
    "pylab.legend(loc='upper center')"
   ]
  },
  {
   "cell_type": "markdown",
   "metadata": {},
   "source": [
    "## Numeric Integrals\n",
    "\n",
    "Let's evaluate numeric integrals a few different ways"
   ]
  },
  {
   "cell_type": "code",
   "execution_count": 12,
   "metadata": {},
   "outputs": [],
   "source": [
    "def numericIntegral(func, a, b, n_steps):\n",
    "    \"\"\"\n",
    "    Simple numeric integration routine.\n",
    "    \"\"\"\n",
    "    x = np.linspace(a, b, n_steps + 1) \n",
    "    dx = (b - a) / float(n_steps + 1)\n",
    "    return np.sum(func(x) * dx)"
   ]
  },
  {
   "cell_type": "code",
   "execution_count": 13,
   "metadata": {},
   "outputs": [
    {
     "name": "stdout",
     "output_type": "stream",
     "text": [
      "24.359999999999996\n"
     ]
    }
   ],
   "source": [
    "print(numericIntegral(myFunction, my_a, my_b, 100))"
   ]
  },
  {
   "cell_type": "markdown",
   "metadata": {},
   "source": [
    "Let's see how the accuracy improves as we add more steps.\n"
   ]
  },
  {
   "cell_type": "code",
   "execution_count": 14,
   "metadata": {},
   "outputs": [
    {
     "data": {
      "text/plain": [
       "<matplotlib.legend.Legend at 0x2ad311304da0>"
      ]
     },
     "execution_count": 14,
     "metadata": {},
     "output_type": "execute_result"
    },
    {
     "data": {
      "image/png": "[encoded data removed]",
      "text/plain": [
       "<Figure size 432x288 with 1 Axes>"
      ]
     },
     "metadata": {
      "needs_background": "light"
     },
     "output_type": "display_data"
    }
   ],
   "source": [
    "n_steps = 10**np.arange(1, 6).astype(int)\n",
    "value = np.empty(len(n_steps))\n",
    "for ii in range(0, len(n_steps)):\n",
    "    value[ii] = numericIntegral(myFunction, my_a, my_b, n_steps[ii])\n",
    "\n",
    "pylab.figure()\n",
    "pylab.xscale('log')\n",
    "pylab.axhline(analyticIntegral(my_a, my_b), c='black', ls='--', label='Analytic Integral')\n",
    "pylab.scatter(n_steps, value, c='red', label='Numeric Integral')\n",
    "pylab.xlabel('N Steps in Numeric Integral')\n",
    "pylab.ylabel('Value')\n",
    "pylab.legend(loc='upper right')"
   ]
  },
  {
   "cell_type": "markdown",
   "metadata": {},
   "source": [
    "Rather than plotting the value of the integral directly, a more informative plot might be the fractional error relative to the analytic result."
   ]
  },
  {
   "cell_type": "code",
   "execution_count": 15,
   "metadata": {},
   "outputs": [
    {
     "name": "stderr",
     "output_type": "stream",
     "text": [
      "/usr/local/lib/python3.4/dist-packages/matplotlib/ticker.py:2207: UserWarning: Data has no positive values, and therefore cannot be log-scaled.\n",
      "  \"Data has no positive values, and therefore cannot be \"\n"
     ]
    },
    {
     "data": {
      "text/plain": [
       "(1e-06, 1)"
      ]
     },
     "execution_count": 15,
     "metadata": {},
     "output_type": "execute_result"
    },
    {
     "data": {
      "image/png": "[encoded data removed]",
      "text/plain": [
       "<Figure size 432x288 with 1 Axes>"
      ]
     },
     "metadata": {
      "needs_background": "light"
     },
     "output_type": "display_data"
    }
   ],
   "source": [
    "pylab.figure()\n",
    "pylab.xscale('log')\n",
    "pylab.yscale('log')\n",
    "pylab.axhline(0, c='black', ls='--', label='')\n",
    "pylab.scatter(n_steps, np.fabs(value / analyticIntegral(my_a, my_b)) - 1., c='red')\n",
    "pylab.xlabel('N Steps in Numeric Integral')\n",
    "pylab.ylabel('Fractional Error')\n",
    "pylab.ylim(1.e-6, 1)"
   ]
  },
  {
   "cell_type": "markdown",
   "metadata": {},
   "source": [
    "In principle, by adding more and more steps, we approach near-perfect accuracy. However, there is a cost in compute time."
   ]
  },
  {
   "cell_type": "code",
   "execution_count": 16,
   "metadata": {},
   "outputs": [
    {
     "name": "stdout",
     "output_type": "stream",
     "text": [
      "   N_steps   Avg Time (s)\n",
      "        10      7.329e-05\n",
      "       100      7.233e-05\n",
      "      1000      7.025e-05\n",
      "     10000      1.286e-04\n",
      "    100000      1.640e-02\n"
     ]
    }
   ],
   "source": [
    "import timeit\n",
    "\n",
    "average_time = np.empty(len(n_steps))\n",
    "n_trials = 1000\n",
    "\n",
    "print(\"%10s%15s\"%(\"N_steps\", \"Avg Time (s)\"))\n",
    "setup = \"from __main__ import numericIntegral, myFunction, my_a, my_b\"\n",
    "for ii in range(0, len(n_steps)):\n",
    "    command = \"numericIntegral(myFunction, my_a, my_b, %i)\"%(n_steps[ii])\n",
    "    average_time[ii] = timeit.timeit(command, \n",
    "                                     setup=setup, \n",
    "                                     number=n_trials) / n_trials\n",
    "    print(\"%10i%15.3e\"%(n_steps[ii], average_time[ii]))"
   ]
  },
  {
   "cell_type": "code",
   "execution_count": 17,
   "metadata": {},
   "outputs": [
    {
     "data": {
      "text/plain": [
       "Text(0,0.5,'Average Time (s)')"
      ]
     },
     "execution_count": 17,
     "metadata": {},
     "output_type": "execute_result"
    },
    {
     "data": {
      "image/png": "[encoded data removed]",
      "text/plain": [
       "<Figure size 432x288 with 1 Axes>"
      ]
     },
     "metadata": {
      "needs_background": "light"
     },
     "output_type": "display_data"
    }
   ],
   "source": [
    "pylab.figure()\n",
    "pylab.xscale('log')\n",
    "pylab.yscale('log')\n",
    "pylab.scatter(n_steps, average_time, c='red')\n",
    "pylab.xlabel('N Steps in Numeric Integral')\n",
    "pylab.ylabel('Average Time (s)')"
   ]
  },
  {
   "cell_type": "markdown",
   "metadata": {},
   "source": [
    "## Built-in Python Integration Routines\n",
    "\n",
    "We used a very simple approach in our homebrew numeric integration example above. It turns out that we can get substantially better accuracy and performance using python's built-in integration library [scipy.integrate](https://docs.scipy.org/doc/scipy/reference/tutorial/integrate.html)."
   ]
  },
  {
   "cell_type": "code",
   "execution_count": 18,
   "metadata": {},
   "outputs": [],
   "source": [
    "import scipy.integrate"
   ]
  },
  {
   "cell_type": "markdown",
   "metadata": {},
   "source": [
    "First, let's check the accuracy."
   ]
  },
  {
   "cell_type": "code",
   "execution_count": 19,
   "metadata": {},
   "outputs": [
    {
     "name": "stdout",
     "output_type": "stream",
     "text": [
      "Value = 24\n",
      "Absolute Error Estimate = 2.66454e-13\n"
     ]
    }
   ],
   "source": [
    "value, absolute_error_estimate = scipy.integrate.quad(myFunction, my_a, my_b)\n",
    "print('Value = %g\\nAbsolute Error Estimate = %g'%(value, absolute_error_estimate))"
   ]
  },
  {
   "cell_type": "code",
   "execution_count": 20,
   "metadata": {},
   "outputs": [
    {
     "name": "stdout",
     "output_type": "stream",
     "text": [
      "Average time = 1.674e-05 s\n"
     ]
    }
   ],
   "source": [
    "setup = \"from __main__ import scipy, myFunction, my_a, my_b\"\n",
    "n_trials = 1000\n",
    "\n",
    "command = \"scipy.integrate.quad(myFunction, my_a, my_b)\"%(n_steps[ii])\n",
    "average_time = timeit.timeit(command, setup=setup, number=n_trials) / n_trials\n",
    "print(\"Average time = %.3e s\"%(average_time))"
   ]
  },
  {
   "cell_type": "markdown",
   "metadata": {},
   "source": [
    "Wow - much more accurate and much faster!"
   ]
  },
  {
   "cell_type": "markdown",
   "metadata": {},
   "source": [
    "## Exercises\n",
    "\n",
    "Good work making it this far! For further practice, try evaluating the next two integrals numerically and compare your result with the analytic answer. The second integral has an exact value which can be computed analytically, but requires some judgement to approach numerically.\n",
    "\n",
    "(1) $\\int_0^1 e^x dx$\n",
    "\n",
    "(2) $\\int_{-\\infty}^1 e^x dx$"
   ]
  },
  {
   "cell_type": "code",
   "execution_count": null,
   "metadata": {},
   "outputs": [],
   "source": []
  }
 ],
 "metadata": {
  "kernelspec": {
   "display_name": "Python 3",
   "language": "python",
   "name": "python3"
  },
  "language_info": {
   "codemirror_mode": {
    "name": "ipython",
    "version": 3
   },
   "file_extension": ".py",
   "mimetype": "text/x-python",
   "name": "python",
   "nbconvert_exporter": "python",
   "pygments_lexer": "ipython3",
   "version": "3.4.2"
  }
 },
 "nbformat": 4,
 "nbformat_minor": 2
}
