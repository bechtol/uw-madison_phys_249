{
 "cells": [
  {
   "cell_type": "markdown",
   "metadata": {},
   "source": [
    "# Example Cosmology Calculations\n",
    "\n",
    "This is a notebook to demonstrate usage of the `cosmology` python module (which was written specifically for this course as a teaching aid). In this example, we plot the scale factor as a function of cosmic time to visualize the cosmic expansion history. \n",
    "\n",
    "This exercise involves solving the following numeric integral:\n",
    "\n",
    "$\\int_0^a \\frac{da^\\prime}{[\\Omega_{r,0}/{a^\\prime}^2 + \\Omega_{m,0}/a^\\prime + \\Omega_{\\Lambda,0}{a^\\prime}^2 + (1 - \\Omega_0)]^{1/2}} = H_0 t$\n",
    "\n",
    "It will be helpful to look at the source code of `cosmology.py` to understand what the `Cosmology` python class is doing under the hood."
   ]
  },
  {
   "cell_type": "code",
   "execution_count": 1,
   "metadata": {},
   "outputs": [],
   "source": [
    "# The first step in many python scripts is importing modules\n",
    "\n",
    "import numpy as np # Use the \"np\" alias for short\n",
    "import pylab\n",
    "\n",
    "# This module contains the Cosmology class with several helper functions\n",
    "import cosmology \n",
    "\n",
    "pylab.ion() # Turn on interactive plotting"
   ]
  },
  {
   "cell_type": "markdown",
   "metadata": {},
   "source": [
    "Instantiate a `Cosmology` object and set some initial cosmological parameter values. Choose a benchmark set of cosmological parameter values representative of current measurements."
   ]
  },
  {
   "cell_type": "code",
   "execution_count": 2,
   "metadata": {},
   "outputs": [],
   "source": [
    "my_cosmology = cosmology.Cosmology()"
   ]
  },
  {
   "cell_type": "code",
   "execution_count": 3,
   "metadata": {},
   "outputs": [
    {
     "name": "stdout",
     "output_type": "stream",
     "text": [
      "{'omega_radiation_0': 9e-05, 'hubbleTime': 4.5382352941176474e+17, 'hubbleDistance': 1.3605629411764707e+26, 'omega_0': 1.0, 'omega_lambda_0': 0.68991, 'hubble_0': 68.0, 'omega_matter_0': 0.31}\n"
     ]
    }
   ],
   "source": [
    "# This is a python dictionary to hold parameter values\n",
    "parameters = {'omega_matter_0': 0.31,\n",
    "              'omega_radiation_0': 9.0e-5, # photons + neutrinos\n",
    "              'omega_lambda_0': 1. - (0.31 + 9.0e-5),\n",
    "              'hubble_0': 68.} # km s^-1 Mpc^-1\n",
    "\n",
    "# We want a flat Universe in this case\n",
    "parameters['omega_lambda_0'] = 1. - (parameters['omega_matter_0'] + parameters['omega_radiation_0'])\n",
    "\n",
    "# Set the parameter values\n",
    "# The \"**\" syntax tells python to read the dictionary as a set of keyword arguments to the function\n",
    "my_cosmology.setParams(**parameters)\n",
    "\n",
    "# Print out the parameter values of our Cosmology instance\n",
    "my_cosmology.show()"
   ]
  },
  {
   "cell_type": "code",
   "execution_count": 4,
   "metadata": {},
   "outputs": [
    {
     "data": {
      "text/plain": [
       "0.9548953842493219"
      ]
     },
     "execution_count": 4,
     "metadata": {},
     "output_type": "execute_result"
    }
   ],
   "source": [
    "my_cosmology.cosmicTime(1.)"
   ]
  },
  {
   "cell_type": "markdown",
   "metadata": {},
   "source": [
    "Let's calculate the age of the Universe. At the current time, the scale factor is $a=1$. We take advantage of some of the unit conversions already available in the `cosmology` module."
   ]
  },
  {
   "cell_type": "code",
   "execution_count": 5,
   "metadata": {},
   "outputs": [
    {
     "name": "stdout",
     "output_type": "stream",
     "text": [
      "The age of the Universe is 13.7 Gyr\n"
     ]
    }
   ],
   "source": [
    "age_of_the_universe = my_cosmology.cosmicTime(1.) \\\n",
    "    * my_cosmology.hubbleTime / (1.e9 * cosmology.Constants.YR_TO_S)\n",
    "print('The age of the Universe is %.1f Gyr'%(age_of_the_universe))"
   ]
  },
  {
   "cell_type": "markdown",
   "metadata": {},
   "source": [
    "Now let's plot the evolution of the scale factor. This is where we need to evaluate the numeric integral mentioned above. The integral is already implemented in the `cosmicTime` function within the `Cosmology` class."
   ]
  },
  {
   "cell_type": "code",
   "execution_count": 6,
   "metadata": {},
   "outputs": [],
   "source": [
    "# Create a log-spaced set of scale factor values\n",
    "a_array = np.logspace(-6, 3, 100)\n",
    "\n",
    "# For each scale factor value, compute the associated cosmic time\n",
    "t_array = np.empty(len(a_array))\n",
    "for ii in range(0, len(a_array)):\n",
    "    t_array[ii] = my_cosmology.cosmicTime(a_array[ii])"
   ]
  },
  {
   "cell_type": "markdown",
   "metadata": {},
   "source": [
    "The following cell shows commonly used plotting syntax to set the axes labels and interval for display. A helper function is defined to display out the current cosmological time on the curve of the cosmic expansion history."
   ]
  },
  {
   "cell_type": "code",
   "execution_count": 7,
   "metadata": {},
   "outputs": [
    {
     "data": {
      "image/png": "[encoded data removed]",
      "text/plain": [
       "<Figure size 576x432 with 1 Axes>"
      ]
     },
     "metadata": {
      "needs_background": "light"
     },
     "output_type": "display_data"
    }
   ],
   "source": [
    "pylab.figure(figsize=(8, 6))\n",
    "pylab.xscale('log')\n",
    "pylab.yscale('log')\n",
    "pylab.plot(t_array, a_array, c='red')\n",
    "pylab.xlim(1.e-10, 1.e2)\n",
    "pylab.ylim(1.e-6, 1.e3)\n",
    "pylab.xlabel('$H_0 t$')\n",
    "pylab.ylabel('a')\n",
    "pylab.title('Cosmic Expansion History')\n",
    "\n",
    "def reticule(x, y):\n",
    "    \"\"\"\n",
    "    Helper plotting function to draw crosshairs at an important point\n",
    "    \"\"\"\n",
    "    pylab.plot((x, x), (pylab.ylim()[0], y), c='0.5', ls='--', lw=1)\n",
    "    pylab.plot((pylab.xlim()[0], x), (y, y), c='0.5', ls='--', lw=1)\n",
    "\n",
    "# Show the current cosmological time\n",
    "reticule(my_cosmology.cosmicTime(1.), 1.)"
   ]
  },
  {
   "cell_type": "markdown",
   "metadata": {},
   "source": [
    "Apparently, we live in interesting times! The scale factor has started to grow exponentially with respect to cosmic time."
   ]
  },
  {
   "cell_type": "code",
   "execution_count": null,
   "metadata": {},
   "outputs": [],
   "source": []
  }
 ],
 "metadata": {
  "kernelspec": {
   "display_name": "Python 3",
   "language": "python",
   "name": "python3"
  },
  "language_info": {
   "codemirror_mode": {
    "name": "ipython",
    "version": 3
   },
   "file_extension": ".py",
   "mimetype": "text/x-python",
   "name": "python",
   "nbconvert_exporter": "python",
   "pygments_lexer": "ipython3",
   "version": "3.4.2"
  }
 },
 "nbformat": 4,
 "nbformat_minor": 2
}
